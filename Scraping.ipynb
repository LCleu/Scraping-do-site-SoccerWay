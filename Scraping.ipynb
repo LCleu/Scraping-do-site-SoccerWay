{
 "cells": [
  {
   "cell_type": "code",
   "execution_count": 4,
   "id": "475d5b03",
   "metadata": {},
   "outputs": [],
   "source": [
    "import requests\n",
    "from bs4 import BeautifulSoup\n",
    "import pandas as pd\n",
    "import openpyxl\n",
    "import xlrd"
   ]
  },
  {
   "cell_type": "code",
   "execution_count": null,
   "id": "e7579b8e",
   "metadata": {},
   "outputs": [],
   "source": [
    "\n",
    "def get_matches_table(url: str) -> pd.DataFrame:\n",
    "    headers = {\n",
    "        \"User-Agent\": \"Mozilla/5.0 (Windows NT 10.0; Win64; x64)\"\n",
    "    }\n",
    "\n",
    "    response = requests.get(url, headers=headers)\n",
    "    response.raise_for_status()  # Garante erro explícito se o request falhar\n",
    "\n",
    "    soup = BeautifulSoup(response.content, \"html.parser\")\n",
    "\n",
    "    # Encontra a tabela pela classe ou outro seletor\n",
    "    table_container = soup.find(\"div\", class_=\"table-container redesign\")\n",
    "    table = table_container.find(\"table\", class_=\"matches\")\n",
    "\n",
    "    # Transforma a tabela HTML em string e depois em DataFrame\n",
    "    df = pd.read_html(str(table))[0]\n",
    "\n",
    "    return df\n",
    "\n",
    "url = \"https://br.soccerway.com/teams/brazil/fortaleza-esporte-clube/327/matches/\"\n",
    "df = get_matches_table(url)\n",
    "print(df.head())"
   ]
  },
  {
   "cell_type": "code",
   "execution_count": null,
   "id": "a85225db",
   "metadata": {},
   "outputs": [],
   "source": [
    "urls = [\n",
    "    \"https://br.soccerway.com/teams/brazil/clube-atletico-mineiro/317/matches/\",\n",
    "    \"https://br.soccerway.com/teams/brazil/esporte-clube-bahia/341/matches/\",\n",
    "    \"https://br.soccerway.com/teams/brazil/botafogo-de-futebol-e-regatas/323/matches/\",\n",
    "    \"https://br.soccerway.com/teams/brazil/ceara-sporting-club/333/matches/\",\n",
    "    \"https://br.soccerway.com/teams/brazil/sport-club-corinthians-paulista/320/matches/\",\n",
    "    \"https://br.soccerway.com/teams/brazil/cruzeiro-esporte-clube-belo-horizonte/304/matches/\",\n",
    "    \"https://br.soccerway.com/teams/brazil/clube-de-regatas-de-flamengo/318/matches/\",\n",
    "    \"https://br.soccerway.com/teams/brazil/fluminense-football-club/312/matches/\",\n",
    "    \"https://br.soccerway.com/teams/brazil/fortaleza-esporte-clube/327/matches/\",\n",
    "    \"https://br.soccerway.com/teams/brazil/gremio-foot-ball-porto-alegrense/313/matches/\",\n",
    "    \"https://br.soccerway.com/teams/brazil/sport-club-internacional/308/matches/\",\n",
    "    \"https://br.soccerway.com/teams/brazil/esporte-clube-juventude/314/matches/\",\n",
    "    \"https://br.soccerway.com/teams/brazil/mirassol-futebol-clube/10164/matches/\",\n",
    "    \"https://br.soccerway.com/teams/brazil/sociedade-esportiva-palmeiras/310/matches/\",\n",
    "    \"https://br.soccerway.com/teams/brazil/clube-atletico-bragantino/2827/matches/\",\n",
    "    \"https://br.soccerway.com/teams/brazil/santos-futebol-clube-sao-paulo/319/matches/\",\n",
    "    \"https://br.soccerway.com/teams/brazil/sport-club-do-recife/338/matches/\",\n",
    "    \"https://br.soccerway.com/teams/brazil/sao-paulo-futebol-clube/302/matches/\",\n",
    "    \"https://br.soccerway.com/teams/brazil/cr-vasco-da-gama/321/matches/\",\n",
    "    \"https://br.soccerway.com/teams/brazil/esporte-clube-vitoria/306/matches/\",\n",
    "]\n",
    "#Achei melhor fazer  com for porque o map estava juntando todas as tabelas em uma só, com o for cad item da lista é um df diferente\n",
    "lista_de_times = [\"1\", \"2\", \"3\", \"4\", \"5\", \"6\", \"7\", \"8\", \"9\", \"10\", \"11\", \"12\", \"13\", \"14\", \"15\", \"16\", \"17\", \"18\", \"19\",\"20\"]\n",
    "for i in range(len(lista_de_times)):\n",
    "    lista_de_times[i] = get_matches_table(urls[i])\n",
    "#lista_de_times = list(map(get_matches_table, urls))\n",
    "lista_de_times"
   ]
  },
  {
   "cell_type": "code",
   "execution_count": 3,
   "id": "b6d6cb4a",
   "metadata": {},
   "outputs": [
    {
     "name": "stderr",
     "output_type": "stream",
     "text": [
      "c:\\Users\\Lucas\\AppData\\Local\\Programs\\Python\\Python39\\lib\\site-packages\\openpyxl\\workbook\\child.py:99: UserWarning: Title is more than 31 characters. Some applications may not be able to read the file\n",
      "  warnings.warn(\"Title is more than 31 characters. Some applications may not be able to read the file\")\n"
     ]
    }
   ],
   "source": [
    "#lista de times na ordem dos links para nomear as planilhas\n",
    "nomes_dos_times = [\n",
    "    \"Clube Atlético Mineiro\",\n",
    "    \"Esporte Clube Bahia\",\n",
    "    \"Botafogo de Futebol e Regatas\",\n",
    "    \"Ceará Sporting Club\",\n",
    "    \"Sport Club Corinthians Paulista\",\n",
    "    \"Cruzeiro Esporte Clube Belo Horizonte\",\n",
    "    \"Clube de Regatas do Flamengo\",\n",
    "    \"Fluminense Football Club\",\n",
    "    \"Fortaleza Esporte Clube\",\n",
    "    \"Grêmio Foot-Ball Porto Alegrense\",\n",
    "    \"Sport Club Internacional\",\n",
    "    \"Esporte Clube Juventude\",\n",
    "    \"Mirassol Futebol Clube\",\n",
    "    \"Sociedade Esportiva Palmeiras\",\n",
    "    \"Clube Atlético Bragantino\",\n",
    "    \"Santos Futebol Clube São Paulo\",\n",
    "    \"Sport Club do Recife\",\n",
    "    \"São Paulo Futebol Clube\",\n",
    "    \"CR Vasco da Gama\",\n",
    "    \"Esporte Clube Vitória\"\n",
    "]\n",
    "\n",
    "#Passando os dados para um formato excel de 1 time por planilha\n",
    "with pd.ExcelWriter(\"tabela_times.xlsx\") as writer:\n",
    "    for i in range(len(lista_de_times)):\n",
    "        lista_de_times[i].to_excel(writer, sheet_name=nomes_dos_times[i])"
   ]
  },
  {
   "cell_type": "code",
   "execution_count": null,
   "id": "0bb04cbe",
   "metadata": {},
   "outputs": [],
   "source": []
  }
 ],
 "metadata": {
  "kernelspec": {
   "display_name": "Python 3",
   "language": "python",
   "name": "python3"
  },
  "language_info": {
   "codemirror_mode": {
    "name": "ipython",
    "version": 3
   },
   "file_extension": ".py",
   "mimetype": "text/x-python",
   "name": "python",
   "nbconvert_exporter": "python",
   "pygments_lexer": "ipython3",
   "version": "3.9.5"
  }
 },
 "nbformat": 4,
 "nbformat_minor": 5
}
